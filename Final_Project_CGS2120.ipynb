{
  "nbformat": 4,
  "nbformat_minor": 0,
  "metadata": {
    "colab": {
      "provenance": [],
      "authorship_tag": "ABX9TyNtjqImWy9EQ5RmobcAF5Zw",
      "include_colab_link": true
    },
    "kernelspec": {
      "name": "python3",
      "display_name": "Python 3"
    },
    "language_info": {
      "name": "python"
    }
  },
  "cells": [
    {
      "cell_type": "markdown",
      "metadata": {
        "id": "view-in-github",
        "colab_type": "text"
      },
      "source": [
        "<a href=\"https://colab.research.google.com/github/Sydney1226/MyFinalProjectPython/blob/main/Final_Project_CGS2120.ipynb\" target=\"_parent\"><img src=\"https://colab.research.google.com/assets/colab-badge.svg\" alt=\"Open In Colab\"/></a>"
      ]
    },
    {
      "source": [
        "def gcd(a, b):\n",
        "  \"\"\"\n",
        "  Calculates the greatest common divisor (GCD) of two integers using Euclid's algorithm.\n",
        "\n",
        "  Args:\n",
        "    a: The first integer.\n",
        "    b: The second integer.\n",
        "\n",
        "  Returns:\n",
        "    The GCD of a and b.\n",
        "  \"\"\"\n",
        "  while b:\n",
        "    a, b = b, a % b\n",
        "  return a\n",
        "\n",
        "num1 = 48\n",
        "num2 = 180\n",
        "num3 = 56\n",
        "num4 = 98\n",
        "num5 = 101\n",
        "num6 = 103\n",
        "\n",
        "result1 = gcd(num1, num2)\n",
        "print(f\"The GCD of {num1} and {num2} is {result1}\")\n",
        "\n",
        "result2 = gcd(num3, num4)\n",
        "print(f\"The GCD of {num3} and {num4} is {result2}\")\n",
        "\n",
        "result3 = gcd(num5, num6)\n",
        "print(f\"The GCD of {num5} and {num6} is {result3}\")"
      ],
      "cell_type": "code",
      "metadata": {
        "colab": {
          "base_uri": "https://localhost:8080/"
        },
        "id": "L4Gh7RElOGtA",
        "outputId": "60988118-218a-408e-9f6d-db4c25bb7ddd"
      },
      "execution_count": 1,
      "outputs": [
        {
          "output_type": "stream",
          "name": "stdout",
          "text": [
            "The GCD of 48 and 180 is 12\n",
            "The GCD of 56 and 98 is 14\n",
            "The GCD of 101 and 103 is 1\n"
          ]
        }
      ]
    },
    {
      "cell_type": "markdown",
      "source": [
        "Analysis of factorial performance: The time complexity of the factorial function is O(n), which makes the time complexity linear. This means that If you double the input n, the time taken by the function will roughly double and so on.\n",
        "\n",
        "The implementation can be optimized based on the intendend purpose of the code. I choose memoization to store the calculated factorial values without using redundant computations.If I wanted to use my code for a range for input values, I would use a lookup table."
      ],
      "metadata": {
        "id": "lJeY_-XvNRqX"
      }
    },
    {
      "source": [
        "def is_prime(n):\n",
        "    \"\"\"\n",
        "    Checks if a given number is a prime number.\n",
        "\n",
        "    Args:\n",
        "        n: The number to check.\n",
        "\n",
        "    Returns:\n",
        "        True if n is a prime number, False otherwise.\n",
        "    \"\"\"\n",
        "    if n <= 1:\n",
        "        return False  # Numbers less than or equal to 1 are not prime\n",
        "    for i in range(2, int(n**0.5) + 1):\n",
        "        if n % i == 0:\n",
        "            return False  # If n is divisible by i, it's not prime\n",
        "    return True  # If no divisors found, it's prime\n",
        "\n",
        "number = 29\n",
        "if is_prime(number):\n",
        "    print(f\"{number} is a prime number\")\n",
        "else:\n",
        "    print(f\"{number} is not a prime number\")\n",
        "number = 57\n",
        "if is_prime(number):\n",
        "    print(f\"{number} is a prime number\")\n",
        "else:\n",
        "    print(f\"{number} is not a prime number\")\n",
        "number = 97\n",
        "if is_prime(number):\n",
        "    print(f\"{number} is a prime number\")\n",
        "else:\n",
        "    print(f\"{number} is not a prime number\")"
      ],
      "cell_type": "code",
      "metadata": {
        "colab": {
          "base_uri": "https://localhost:8080/"
        },
        "id": "Mc-jw3HeMx4e",
        "outputId": "264f50f7-c28f-4bd4-e01b-2db415510b5c"
      },
      "execution_count": 2,
      "outputs": [
        {
          "output_type": "stream",
          "name": "stdout",
          "text": [
            "29 is a prime number\n",
            "57 is not a prime number\n",
            "97 is a prime number\n"
          ]
        }
      ]
    },
    {
      "cell_type": "markdown",
      "source": [
        "Analysis of GCD performance:\n",
        "The GCD function uses Euclid's algorithm, which has a time complexity of O.The time taken by the algorithm is proportional to the logarithm of the smaller input value.If the input values double, the time taken by the function will increase by a small, constant amount.The time it takes to be excuted is very efficient.\n",
        "\n",
        "The implementation can be optimized For general-purpose use and best performance, using the built-in math.gcd function is recommended.\n",
        "In my case the binary GCD algorithm offers performance improvements for my code due to caching."
      ],
      "metadata": {
        "id": "yeHuhEuAgqtl"
      }
    },
    {
      "source": [
        "def factorial(n):\n",
        "  \"\"\"\n",
        "  Calculates the factorial of a non-negative integer.\n",
        "\n",
        "  Args:\n",
        "    n: The non-negative integer.\n",
        "\n",
        "  Returns:\n",
        "    The factorial of n.\n",
        "  \"\"\"\n",
        "  if n == 0:\n",
        "    return 1\n",
        "  else:\n",
        "    result = 1\n",
        "    for i in range(1, n + 1):\n",
        "      result *= i\n",
        "    return result\n",
        "\n",
        "\n",
        "number1 = 5\n",
        "fact = factorial(number1)\n",
        "print(f\"The factorial of {number1} is {fact}\")\n",
        "number2 = 7\n",
        "fact = factorial(number2)\n",
        "print(f\"The factorial of {number2} is {fact}\")\n",
        "number3 = 10\n",
        "fact = factorial(number3)\n",
        "print(f\"The factorial of {number3} is {fact}\")"
      ],
      "cell_type": "code",
      "metadata": {
        "colab": {
          "base_uri": "https://localhost:8080/"
        },
        "id": "UgHlIQPJJ2NO",
        "outputId": "f935563e-0024-4428-b7a4-735ea9495d5c"
      },
      "execution_count": 3,
      "outputs": [
        {
          "output_type": "stream",
          "name": "stdout",
          "text": [
            "The factorial of 5 is 120\n",
            "The factorial of 7 is 5040\n",
            "The factorial of 10 is 3628800\n"
          ]
        }
      ]
    },
    {
      "cell_type": "markdown",
      "source": [
        "Analyztion of prime performance:The function checks for divisibility by numbers up to the square root of n. This optimization significantly reduces the number of iterations compared to checking all numbers up to n. However, the complexity still grows with the square root of n\n",
        "\n",
        "Optimization:If you know the range of input values beforehand, you can pre-compute the factorials for all values within that range and store them in a lookup table. This allows for constant-time lookups, further improving performance.I would also store a list of pre-computed prime numbers up to a certain limit. You can use this list to quickly check for divisibility against known primes before resorting to the full loop."
      ],
      "metadata": {
        "id": "EL3AOMgrgsEf"
      }
    }
  ]
}